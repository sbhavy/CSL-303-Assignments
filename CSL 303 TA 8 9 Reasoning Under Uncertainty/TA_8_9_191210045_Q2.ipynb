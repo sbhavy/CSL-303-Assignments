{
  "nbformat": 4,
  "nbformat_minor": 0,
  "metadata": {
    "kernelspec": {
      "display_name": "Python 3",
      "language": "python",
      "name": "python3"
    },
    "language_info": {
      "codemirror_mode": {
        "name": "ipython",
        "version": 3
      },
      "file_extension": ".py",
      "mimetype": "text/x-python",
      "name": "python",
      "nbconvert_exporter": "python",
      "pygments_lexer": "ipython3",
      "version": "3.7.3"
    },
    "colab": {
      "name": "Copy of 8_2_RL_example .ipynb",
      "provenance": [],
      "collapsed_sections": [
        "4fs0s9aaUtUK"
      ]
    }
  },
  "cells": [
    {
      "cell_type": "markdown",
      "metadata": {
        "id": "4fs0s9aaUtUK"
      },
      "source": [
        "# Reinfocement Learning  Example :PathFinder Bot \n",
        "\n",
        "Suppose we have 5 rooms A to E, in a building connected by certain doors :\n",
        "We  can  consider  outside  of  the  building  as  one  big  room  say  F  to  cover the building. \n",
        "There are two doors lead to the building from F, that is through room B and room E. \n",
        "\n",
        "\n",
        "![title](RL_problem.png)\n",
        "\n",
        "Which path agent should choose??? \n",
        "\n"
      ]
    },
    {
      "cell_type": "markdown",
      "metadata": {
        "id": "4VYpD-ZoUtUM"
      },
      "source": [
        "# Step 1: Modeling the environment- \n",
        "\n",
        "- Represent the rooms by graph, \n",
        "- Each room as a vertex (or node) and \n",
        "- Each door as an edge (or link). \n",
        "- Goal room is the node F \n",
        "![image.png](RL1.png)\n",
        "\n",
        "\n"
      ]
    },
    {
      "cell_type": "markdown",
      "metadata": {
        "id": "C4PrJJLLUtUM"
      },
      "source": [
        "Goal :  Outside the building : Node F\n",
        "Assign Reward Value to each room  \n",
        "\n",
        "State:  Each room (including outside building )\n",
        "\n",
        "Action : Agent’s Movement from 1 room to next room\n",
        "\n",
        "Initial state : C (random )\n",
        "\n",
        "Reward: Goal Node :highest reward (100)  rest – 0; \n",
        "\n",
        "State Diagram \n",
        "![image.png](RL2.png)\n",
        "\n",
        "\n",
        "![title](RL_image.png)"
      ]
    },
    {
      "cell_type": "code",
      "metadata": {
        "id": "92ZGnxPBUtUN"
      },
      "source": [
        "import numpy as np"
      ],
      "execution_count": null,
      "outputs": []
    },
    {
      "cell_type": "code",
      "metadata": {
        "id": "MrELJsg5UtUN",
        "colab": {
          "base_uri": "https://localhost:8080/"
        },
        "outputId": "2cab399e-4e4a-49a0-e813-cdfcf77612d8"
      },
      "source": [
        "# R matrix\n",
        "\n",
        "Rewards = np.matrix([ [-1,-1,-1,-1,0,-1],\n",
        "                      [-1,-1,-1,0,-1,100],\n",
        "                      [-1,-1,-1,0,-1,-1],\n",
        "                      [-1,0,0,-1,0,-1],\n",
        "                      [0,-1,-1,0,-1,100],\n",
        "                      [-1,0,-1,-1,0,100]  \n",
        "                     ])\n",
        "\n",
        "Rewards"
      ],
      "execution_count": null,
      "outputs": [
        {
          "output_type": "execute_result",
          "data": {
            "text/plain": [
              "matrix([[ -1,  -1,  -1,  -1,   0,  -1],\n",
              "        [ -1,  -1,  -1,   0,  -1, 100],\n",
              "        [ -1,  -1,  -1,   0,  -1,  -1],\n",
              "        [ -1,   0,   0,  -1,   0,  -1],\n",
              "        [  0,  -1,  -1,   0,  -1, 100],\n",
              "        [ -1,   0,  -1,  -1,   0, 100]])"
            ]
          },
          "metadata": {},
          "execution_count": 28
        }
      ]
    },
    {
      "cell_type": "code",
      "metadata": {
        "id": "SoC33jioUtUO",
        "colab": {
          "base_uri": "https://localhost:8080/"
        },
        "outputId": "58eff6f8-35eb-4b02-a47a-81e4179f7039"
      },
      "source": [
        "# Q matrix: zero matrix  of size same as R matrix\n",
        "\n",
        "Q = np.zeros((Rewards.shape[0],Rewards.shape[1]))\n",
        "Q"
      ],
      "execution_count": null,
      "outputs": [
        {
          "output_type": "execute_result",
          "data": {
            "text/plain": [
              "array([[0., 0., 0., 0., 0., 0.],\n",
              "       [0., 0., 0., 0., 0., 0.],\n",
              "       [0., 0., 0., 0., 0., 0.],\n",
              "       [0., 0., 0., 0., 0., 0.],\n",
              "       [0., 0., 0., 0., 0., 0.],\n",
              "       [0., 0., 0., 0., 0., 0.]])"
            ]
          },
          "metadata": {},
          "execution_count": 29
        }
      ]
    },
    {
      "cell_type": "code",
      "metadata": {
        "id": "rh9-vccSUtUP"
      },
      "source": [
        "# Gamma (learning parameter).\n",
        "gamma = 0.8"
      ],
      "execution_count": null,
      "outputs": []
    },
    {
      "cell_type": "code",
      "metadata": {
        "id": "HKcj9jfpUtUP",
        "colab": {
          "base_uri": "https://localhost:8080/"
        },
        "outputId": "3fbd2091-6c07-4978-eb6a-428ec7bcd306"
      },
      "source": [
        "# Initial state. (Usually to be chosen at random)\n",
        "initial_state = 1\n",
        "\n",
        "# Write your Code to choose random State\n",
        "import random\n",
        "initial_state = random.randint(0,Rewards.shape[0]-1)\n",
        "initial_state"
      ],
      "execution_count": null,
      "outputs": [
        {
          "output_type": "execute_result",
          "data": {
            "text/plain": [
              "2"
            ]
          },
          "metadata": {},
          "execution_count": 31
        }
      ]
    },
    {
      "cell_type": "code",
      "metadata": {
        "id": "inEcrplNUtUP"
      },
      "source": [
        "# This function returns all available actions in the state given as an argument\n",
        "def available_actions(state):\n",
        "    current_state_row = Rewards[state,]\n",
        "    av_act = np.where(current_state_row >= 0)[1]\n",
        "    return av_act"
      ],
      "execution_count": null,
      "outputs": []
    },
    {
      "cell_type": "code",
      "metadata": {
        "id": "V5P8hWERUtUQ"
      },
      "source": [
        "# Get available actions in the current state\n",
        "available_act = available_actions(initial_state) "
      ],
      "execution_count": null,
      "outputs": []
    },
    {
      "cell_type": "code",
      "metadata": {
        "id": "hjU3aQTgUtUQ"
      },
      "source": [
        "# This function chooses at random which action to be performed within the range \n",
        "# of all the available actions.\n",
        "def sample_next_action(available_actions_range):\n",
        "    next_action = int(np.random.choice(available_act,1))\n",
        "    return next_action"
      ],
      "execution_count": null,
      "outputs": []
    },
    {
      "cell_type": "code",
      "metadata": {
        "id": "5FfDObSgUtUQ"
      },
      "source": [
        "# Sample next action to be performed\n",
        "action = sample_next_action(available_act)"
      ],
      "execution_count": null,
      "outputs": []
    },
    {
      "cell_type": "code",
      "metadata": {
        "id": "YLGugZ2SUtUQ"
      },
      "source": [
        "# This function updates the Q matrix according to the path selected and the Q \n",
        "# learning algorithm\n",
        "def update(current_state, action, gamma):\n",
        "    \n",
        "    max_index = np.where(Q[action,] == np.max(Q[action,]))[0]\n",
        "\n",
        "    if max_index.shape[0] > 1:\n",
        "        max_index = int(np.random.choice(max_index, size = 1))\n",
        "    else:\n",
        "        max_index = int(max_index)\n",
        "    max_value = Q[action, max_index]# WRITE YOUR CODE HERE \n",
        "    \n",
        "    # Q learning formula\n",
        "    Q[current_state, action] = Rewards[current_state, action] + gamma * max_value\n",
        "\n",
        "# Update Q matrix\n",
        "update(initial_state,action,gamma)"
      ],
      "execution_count": null,
      "outputs": []
    },
    {
      "cell_type": "code",
      "metadata": {
        "id": "Ruy8TsG3UtUR",
        "colab": {
          "base_uri": "https://localhost:8080/"
        },
        "outputId": "7045b097-6c33-417e-f596-bb8de47232ba"
      },
      "source": [
        "#-------------------------------------------------------------------------------\n",
        "# Training\n",
        "\n",
        "# Train over 10 000 iterations. (Re-iterate the process above).\n",
        "for i in range(10000):\n",
        "    current_state = np.random.randint(0, int(Q.shape[0]))\n",
        "    available_act = available_actions(current_state)# WRITE YOUR CODE HERE )\n",
        "    action = sample_next_action(available_act)# WRITE YOUR CODE HERE )\n",
        "    score= update(current_state,action,gamma)\n",
        "\n",
        "    # The \"trained\" Q matrix\n",
        "print(\"The Trained Q matrix:\")\n",
        "print(Q)\n",
        "\n",
        "\n",
        "# Normalize the \"trained\" Q matrix\n",
        "print(\"Trained Normalized Q matrix:\")\n",
        "Q_nor=Q/np.max(Q)*100 # WRITE YOUR CODE HERE\n",
        "print(Q_nor), i"
      ],
      "execution_count": null,
      "outputs": [
        {
          "output_type": "stream",
          "name": "stdout",
          "text": [
            "The Trained Q matrix:\n",
            "[[  0.   0.   0.   0. 400.   0.]\n",
            " [  0.   0.   0. 320.   0. 500.]\n",
            " [  0.   0.   0. 320.   0.   0.]\n",
            " [  0. 400. 256.   0. 400.   0.]\n",
            " [320.   0.   0. 320.   0. 500.]\n",
            " [  0. 400.   0.   0. 400. 500.]]\n",
            "Trained Normalized Q matrix:\n",
            "[[  0.    0.    0.    0.   80.    0. ]\n",
            " [  0.    0.    0.   64.    0.  100. ]\n",
            " [  0.    0.    0.   64.    0.    0. ]\n",
            " [  0.   80.   51.2   0.   80.    0. ]\n",
            " [ 64.    0.    0.   64.    0.  100. ]\n",
            " [  0.   80.    0.    0.   80.  100. ]]\n"
          ]
        },
        {
          "output_type": "execute_result",
          "data": {
            "text/plain": [
              "(None, 9999)"
            ]
          },
          "metadata": {},
          "execution_count": 37
        }
      ]
    },
    {
      "cell_type": "code",
      "metadata": {
        "id": "uiAKQqdUUtUR",
        "colab": {
          "base_uri": "https://localhost:8080/"
        },
        "outputId": "18613538-e42c-4a3f-cee5-8e3e70311965"
      },
      "source": [
        "#-------------------------------------------------------------------------------\n",
        "# Testing\n",
        "\n",
        "#STATES = [A,B,C,D,E,F]\n",
        "#nO_State=[0,1,2,3,4,5]\n",
        "\n",
        "# Goal state = 5\n",
        "# Best sequence path starting from 2 -> 2, 3, 1, 5\n",
        "\n",
        "current_state = 2\n",
        "current_state = random.randint(0,Rewards.shape[0]-1)\n",
        "print(current_state)\n",
        "steps = [current_state]\n",
        "\n",
        "while current_state != 5:\n",
        "\n",
        "    next_step_index = np.where(Q[current_state,] == np.max(Q[current_state,]))[0]\n",
        "    \n",
        "    if next_step_index.shape[0] > 1:\n",
        "        next_step_index = int(np.random.choice(next_step_index, size = 1))\n",
        "    else:\n",
        "        next_step_index = int(next_step_index)\n",
        "    \n",
        "    steps.append(next_step_index)\n",
        "    current_state = next_step_index"
      ],
      "execution_count": null,
      "outputs": [
        {
          "output_type": "stream",
          "name": "stdout",
          "text": [
            "0\n"
          ]
        }
      ]
    },
    {
      "cell_type": "code",
      "metadata": {
        "id": "owSTVuvUUtUT",
        "colab": {
          "base_uri": "https://localhost:8080/"
        },
        "outputId": "b75199b6-3b7f-483c-8438-1672000738a2"
      },
      "source": [
        "# Print selected sequence of steps\n",
        "print(\"Selected path:\")\n",
        "print(steps)\n"
      ],
      "execution_count": null,
      "outputs": [
        {
          "output_type": "stream",
          "name": "stdout",
          "text": [
            "Selected path:\n",
            "[0, 4, 5]\n"
          ]
        }
      ]
    },
    {
      "cell_type": "markdown",
      "metadata": {
        "id": "F5HFBudtUtUT"
      },
      "source": [
        "**bold text**![image.png](RL_prob.png)\n"
      ]
    },
    {
      "cell_type": "code",
      "metadata": {
        "id": "OUGCoSUNUtUT"
      },
      "source": [
        ""
      ],
      "execution_count": null,
      "outputs": []
    }
  ]
}