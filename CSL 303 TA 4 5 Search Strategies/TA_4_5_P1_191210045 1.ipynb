{
 "cells": [
  {
   "cell_type": "code",
   "execution_count": 26,
   "id": "86ff3d2a",
   "metadata": {},
   "outputs": [],
   "source": [
    "\"\"\"\n",
    "    Class below is a representation of the states. State is a quintuple (V,1,2,3,4) where \n",
    "    V is room number of vacuum cleaner[1,4] and 1,2,3,4 represent the status\n",
    "    of the respective rooms(clean=0 and dirty=1). \n",
    "    Also, action denotes the action by which we arrived at the current state,\n",
    "    from the parent node.\n",
    "\"\"\"\n",
    "class Node:\n",
    "    \n",
    "    def __init__(self,state=None,action=None,parent=None):\n",
    "        self.state=state\n",
    "        self.action=action\n",
    "        self.parent=parent"
   ]
  },
  {
   "cell_type": "code",
   "execution_count": 27,
   "id": "ad6131de",
   "metadata": {},
   "outputs": [],
   "source": [
    "\"\"\"\n",
    "    Utility function that prints the actual shortest\n",
    "    path claimed by the algorithm ~ 'effective route'\n",
    "\"\"\"\n",
    "def path(g):\n",
    "    if(g.parent.parent!=None):\n",
    "        path(g.parent);\n",
    "    output.write(\"%s , %s\\n\" %(g.parent.state[0],g.action))"
   ]
  },
  {
   "cell_type": "code",
   "execution_count": 28,
   "id": "efa9bc62",
   "metadata": {},
   "outputs": [],
   "source": [
    "action={\n",
    "    -2: 'D',\n",
    "    -1: 'R',\n",
    "     0: 'S',\n",
    "     1: 'L',\n",
    "     2: 'U',\n",
    "}"
   ]
  },
  {
   "cell_type": "code",
   "execution_count": 29,
   "id": "281f4628",
   "metadata": {
    "scrolled": true
   },
   "outputs": [],
   "source": [
    "\"\"\"\n",
    "    Generation of ENTIRE state space representation in the form of adjacency lists. All possible \n",
    "    states are first generated then by recognizing a pattern, we can generate adjacency list for each state\n",
    "\"\"\"\n",
    "import numpy as np\n",
    "\n",
    "state=np.array([[v,r1,r2,r3,r4] for v in range(1,5) for r1 in range(0,2)\n",
    "      for r2 in range(0,2) for r3 in range(0,2) for r4 in range(0,2)]).astype(int)\n",
    "\n",
    "# change in rooms, one means left-right, two means up-down\n",
    "one=np.array([1,0,0,0,0]).astype(int)\n",
    "two=np.array([2,0,0,0,0]).astype(int)\n",
    "\n",
    "# if room can be cleaned then update the state accordingly by decrementing the repsective 1 to zero\n",
    "clean1=np.array([0,-1,0,0,0]).astype(int)\n",
    "clean2=np.array([0,0,-1,0,0]).astype(int)\n",
    "clean3=np.array([0,0,0,-1,0]).astype(int)\n",
    "clean4=np.array([0,0,0,0,-1]).astype(int)\n",
    "\n",
    "# generate state space\n",
    "space={}\n",
    "for i in range(len(state)):\n",
    "    if(state[i][0]==1):\n",
    "        if(state[i][1]==1):space[tuple(state[i])]=[tuple(state[i]+one),tuple(state[i]+two),tuple(state[i]+clean1)]\n",
    "        else:space[tuple(state[i])]=[tuple(state[i]+one),tuple(state[i]+two)]\n",
    "            \n",
    "    elif(state[i][0]==2):\n",
    "        if(state[i][2]==1):space[tuple(state[i])]=[tuple(state[i]-one),tuple(state[i]+two),tuple(state[i]+clean2)]\n",
    "        else:space[tuple(state[i])]=[tuple(state[i]-one),tuple(state[i]+two)]\n",
    "            \n",
    "    elif(state[i][0]==3):\n",
    "        if(state[i][3]==1):space[tuple(state[i])]=[tuple(state[i]-two),tuple(state[i]+one),tuple(state[i]+clean3)]\n",
    "        else:space[tuple(state[i])]=[tuple(state[i]-two),tuple(state[i]+one)]        \n",
    "    \n",
    "    elif(state[i][0]==4):\n",
    "        if(state[i][4]==1):space[tuple(state[i])]=[tuple(state[i]-two),tuple(state[i]-one),tuple(state[i]+clean4)]\n",
    "        else:space[tuple(state[i])]=[tuple(state[i]-two),tuple(state[i]-one)]"
   ]
  },
  {
   "cell_type": "code",
   "execution_count": 30,
   "id": "3db6376e",
   "metadata": {},
   "outputs": [],
   "source": [
    "# check if node is not in visited and within bounds\n",
    "\n",
    "def valid(node,visited=[None]):\n",
    "    if(node[0]<=1 and node[1]<=1 and node[0]>=1 and node[1]>=1\n",
    "       and node not in visited):\n",
    "        return True\n",
    "    return False"
   ]
  },
  {
   "cell_type": "code",
   "execution_count": 36,
   "id": "82114321",
   "metadata": {},
   "outputs": [],
   "source": [
    "# Depth-First Search\n",
    "\n",
    "def dfs(start,output):\n",
    "    \n",
    "    # initialize the fringe and visited lists\n",
    "    stack=[start]\n",
    "    visited=[]\n",
    "    cost=0\n",
    "    while True:\n",
    "        curr_node=stack.pop()\n",
    "        visited.append(curr_node.state)\n",
    "        if(sum(list(curr_node.state[1:]))==0): # all rooms are clean\n",
    "            \n",
    "            # find the effective path chosen\n",
    "            # and store it in a file\n",
    "            \n",
    "            path(curr_node)\n",
    "            output.write(\"%s , %s\\n\" %(curr_node.state[0],'N'))\n",
    "            output.close()\n",
    "            print(\"Total nodes visited:\",cost)\n",
    "            break\n",
    "        else:\n",
    "            # fetch the neighbors from the graph\n",
    "            # and push into fringe accordingly\n",
    "            \n",
    "            nbrs=space[curr_node.state]\n",
    "            for i in range(len(nbrs)):\n",
    "                if(nbrs[i] not in visited):\n",
    "                    stack.append(Node(nbrs[i],action[curr_node.state[0]-nbrs[i][0]],curr_node))\n",
    "            cost+=1"
   ]
  },
  {
   "cell_type": "code",
   "execution_count": 38,
   "id": "0730ada9",
   "metadata": {},
   "outputs": [],
   "source": [
    "# Breadth-First Search\n",
    "\n",
    "def bfs(start,output):\n",
    "    \n",
    "    # initialize the fringe and visited lists\n",
    "    queue=[start]\n",
    "    visited=[]\n",
    "    cost=0\n",
    "    while True:\n",
    "        \n",
    "        curr_node=queue.pop(0)\n",
    "        visited.append(curr_node)\n",
    "        \n",
    "        if(sum(list(curr_node.state[1:]))==0): # all rooms are clean\n",
    "            \n",
    "            # find the effective path chosen\n",
    "            # and store it in a file\n",
    "            \n",
    "            path(curr_node)\n",
    "            output.write(\"%s , %s\\n\" %(curr_node.state[0],'N'))\n",
    "            output.close()\n",
    "            print(\"Total nodes visited:\",cost)\n",
    "            break\n",
    "        else:\n",
    "            \n",
    "            # fetch the neighbors from the graph\n",
    "            # and push into fringe accordingly\n",
    "            \n",
    "            nbrs=space[curr_node.state]\n",
    "            for i in range(len(nbrs)):\n",
    "                if(nbrs[i] not in visited):\n",
    "                    queue.append(Node(nbrs[i],action[curr_node.state[0]-nbrs[i][0]],curr_node))\n",
    "                    visited.append(nbrs[i])\n",
    "            cost+=1"
   ]
  },
  {
   "cell_type": "code",
   "execution_count": 39,
   "id": "e4817353",
   "metadata": {},
   "outputs": [
    {
     "name": "stdout",
     "output_type": "stream",
     "text": [
      "Total nodes visited: 61\n"
     ]
    }
   ],
   "source": [
    "# Execution Block\n",
    "\n",
    "f=open('input1.txt',encoding='utf8')\n",
    "\n",
    "# extract initial state of problem\n",
    "start=[int(f.readline())]\n",
    "start=start+[int(y.strip()) for y in f.readline().split(',')]\n",
    "start=tuple(start)\n",
    "algorithm=f.readline()[:-1]\n",
    "output=open(f.readline()[:-1],'w')\n",
    "\n",
    "# do the execution\n",
    "eval(algorithm+\"(Node(start),output)\")"
   ]
  }
 ],
 "metadata": {
  "kernelspec": {
   "display_name": "Python 3 (ipykernel)",
   "language": "python",
   "name": "python3"
  },
  "language_info": {
   "codemirror_mode": {
    "name": "ipython",
    "version": 3
   },
   "file_extension": ".py",
   "mimetype": "text/x-python",
   "name": "python",
   "nbconvert_exporter": "python",
   "pygments_lexer": "ipython3",
   "version": "3.8.10"
  }
 },
 "nbformat": 4,
 "nbformat_minor": 5
}
