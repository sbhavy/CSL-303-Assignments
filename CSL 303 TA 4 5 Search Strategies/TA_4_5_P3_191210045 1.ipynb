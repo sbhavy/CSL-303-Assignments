{
 "cells": [
  {
   "cell_type": "code",
   "execution_count": 1,
   "id": "b720853c",
   "metadata": {},
   "outputs": [],
   "source": [
    "# check if node is valid: within bounds\n",
    "# and not already visited\n",
    "\n",
    "def valid(node):\n",
    "    if(node[0]<=5 and node[1]<=5 and node[0]>=1 and node[1]>=1 and node not in obstacles):\n",
    "        return True\n",
    "    return False"
   ]
  },
  {
   "cell_type": "code",
   "execution_count": 2,
   "id": "6b6384d6",
   "metadata": {},
   "outputs": [],
   "source": [
    "import numpy as np\n",
    "def astar(start,goal):\n",
    "\n",
    "    maze=[(x,y) for x in range(1,6) for y in range(1,6)] # calculate Mahnattan distances for every valid location\n",
    "    maze=list(set(maze)-set(obstacles))\n",
    "    dist=np.sum(np.abs(np.array(goal)-maze),axis=1)\n",
    "\n",
    "    q=[(dist[maze.index(start)],0,start)]     # initialize variables\n",
    "    r_state=maze\n",
    "    r_data=[0]*len(maze)\n",
    "    r_data[r_state.index(start)]=(dist[maze.index(start)],0)\n",
    "    cost=0\n",
    "    while True:\n",
    "        \n",
    "        curr_node=q.pop(0) # remove node from fringe and add it to visited list\n",
    "        print(curr_node[2],end=' ')\n",
    "        \n",
    "        i,j=curr_node[2] # extract co-ordinates for future use\n",
    "        \n",
    "        if(curr_node[2]==goal): # goal found!\n",
    "            print(\"| Total Cost=\",cost,\"| Effective Cost=\",curr_node[1])\n",
    "            return cost, curr_node[1]\n",
    "            break\n",
    "        else: # entertain all possibilities (up,down,left,right)\n",
    "            nbrs=[(i-1,j),(i,j-1),(i,j+1),(i+1,j)]\n",
    "            for i in range(4):\n",
    "                if(valid(nbrs[i])):\n",
    "                    # check if node is new or it exists in queue if new node, then simply insert\n",
    "                    # else check if new path is better than old path\n",
    "                    if (r_data[r_state.index(nbrs[i])]==0\n",
    "                    or (curr_node[1]+1)<r_data[r_state.index(nbrs[i])][1]):\n",
    "                        r_data[r_state.index(nbrs[i])]=((dist[maze.index(nbrs[i])]+curr_node[1]+1),(curr_node[1]+1))\n",
    "                        q.append(((dist[maze.index(nbrs[i])]+curr_node[1]+1),(curr_node[1]+1),nbrs[i]))\n",
    "            q.sort()\n",
    "            cost+=1"
   ]
  },
  {
   "cell_type": "code",
   "execution_count": 3,
   "id": "2e5da630",
   "metadata": {},
   "outputs": [
    {
     "name": "stdout",
     "output_type": "stream",
     "text": [
      "[[2. 0. 0. 0. 1.]\n",
      " [0. 1. 0. 0. 3.]\n",
      " [0. 3. 0. 1. 1.]\n",
      " [0. 1. 0. 0. 1.]\n",
      " [3. 0. 0. 0. 3.]]\n",
      "\n",
      "(1, 1) (1, 2) (2, 1) (3, 1) (3, 2) | Total Cost= 4 | Effective Cost= 3\n",
      "(3, 2) (3, 1) (4, 1) (5, 1) | Total Cost= 3 | Effective Cost= 3\n",
      "(5, 1) (5, 2) (5, 3) (5, 4) (5, 5) | Total Cost= 4 | Effective Cost= 4\n",
      "(5, 5) (5, 4) (4, 4) (5, 3) (4, 3) (3, 3) (2, 3) (2, 4) (2, 5) | Total Cost= 8 | Effective Cost= 7\n",
      "\n",
      "Total cost: 19\n",
      "Effective cost: 17\n"
     ]
    }
   ],
   "source": [
    "import numpy as np\n",
    "\n",
    "# below code snippet is for showing the initial state of \n",
    "# the maze diagrammatically\n",
    "maze=np.zeros(25)\n",
    "maze[4]=maze[6]=maze[13]=maze[14]=maze[16]=maze[19]=1\n",
    "maze[0]=2\n",
    "maze[9]=maze[11]=maze[20]=maze[24]=3\n",
    "\n",
    "maze=maze.reshape((5,5))\n",
    "print(maze)\n",
    "print(\"\")\n",
    "# tuples defining the respective entities start state, goal state, and obstacles\n",
    "start=(1,1)\n",
    "goals=[(3,2),(5,1),(2,5),(5,5)]\n",
    "obstacles=[(1,5),(2,2),(3,4),(3,5),(4,2),(4,5)]\n",
    "global obstacles\n",
    "\n",
    "cost_tot=0\n",
    "cost_eff=0\n",
    "while(len(goals)>0):\n",
    "    \n",
    "    # find the closest goal using Manhattan Distance\n",
    "    min_ind=np.argmin(np.sum(np.abs(np.array(goals)-start),axis=1))\n",
    "    \n",
    "    # use a-star on the current state and nearest goal found\n",
    "    scores=astar(start,goals[min_ind])\n",
    "    cost_tot+=scores[0]\n",
    "    cost_eff+=scores[1]\n",
    "    \n",
    "    # repeat the problem with goal state as new start state\n",
    "    start=goals[min_ind]\n",
    "    goals.pop(min_ind)\n",
    "\n",
    "print(\"\")\n",
    "print(\"Total cost:\",cost_tot)\n",
    "print(\"Effective cost:\",cost_eff)"
   ]
  }
 ],
 "metadata": {
  "kernelspec": {
   "display_name": "Python 3 (ipykernel)",
   "language": "python",
   "name": "python3"
  },
  "language_info": {
   "codemirror_mode": {
    "name": "ipython",
    "version": 3
   },
   "file_extension": ".py",
   "mimetype": "text/x-python",
   "name": "python",
   "nbconvert_exporter": "python",
   "pygments_lexer": "ipython3",
   "version": "3.8.10"
  }
 },
 "nbformat": 4,
 "nbformat_minor": 5
}
