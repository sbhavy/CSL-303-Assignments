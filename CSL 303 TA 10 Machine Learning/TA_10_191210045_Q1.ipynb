{
  "nbformat": 4,
  "nbformat_minor": 0,
  "metadata": {
    "colab": {
      "name": "TA_10_191210045_Q1.ipynb",
      "provenance": [],
      "collapsed_sections": []
    },
    "kernelspec": {
      "name": "python3",
      "display_name": "Python 3"
    },
    "language_info": {
      "name": "python"
    }
  },
  "cells": [
    {
      "cell_type": "code",
      "metadata": {
        "id": "TDuM97DHjEre"
      },
      "source": [
        "### CUSTOM NAIVE BAYES CLASSIFIER ###\n",
        "\n",
        "import pandas as pd\n",
        "import numpy as np\n",
        "\n",
        "df = pd.read_csv('playTennis.csv', sep = ',') # load csv data into dataframe"
      ],
      "execution_count": null,
      "outputs": []
    },
    {
      "cell_type": "code",
      "metadata": {
        "id": "VjQXqVduknJb"
      },
      "source": [
        "col = df.columns[1:] # extract column heads"
      ],
      "execution_count": null,
      "outputs": []
    },
    {
      "cell_type": "code",
      "metadata": {
        "id": "uJ2_lx2msQs6"
      },
      "source": [
        "vals = []\n",
        "for i in col:\n",
        "  vals.append(df[i].unique()) # retrieve the unique values of each column\n",
        "                              # these are the possible target values for each parameter"
      ],
      "execution_count": null,
      "outputs": []
    },
    {
      "cell_type": "code",
      "metadata": {
        "id": "X37ygW3RkxnY"
      },
      "source": [
        "prob_tables = [] # stores probability tables (list of lists)\n",
        "\n",
        "for i in range(len(col[-1])):\n",
        "  priors = []\n",
        "  for j in vals[i]:\n",
        "    row = []\n",
        "    for k in vals[-1]:\n",
        "      row.append(sum((df[col[i]] == j) & (df[col[-1]] == k)) / sum(df[col[-1]] == k)) \n",
        "      # example: P(outlook = Sunny|Output = Yes) \n",
        "      # = P(outlook = Sunny & Output = Yes) / P(Output = Yes)\n",
        "      \n",
        "    priors.append(row)\n",
        "  prob_tables.append(priors)"
      ],
      "execution_count": null,
      "outputs": []
    },
    {
      "cell_type": "code",
      "metadata": {
        "id": "BOu9vNSGmwOL"
      },
      "source": [
        "test1 = [\"Sunny\",\"Cool\",\"High\",\"Weak\"] # test vector 1\n",
        "test2 = [\"Rain\",\"Hot\",\"High\",\"Weak\"] # test vector 2\n",
        "\n",
        "prob_yes = sum(df['play'] == \"Yes\")/len(df) # P(Yes)\n",
        "prob_no = sum(df['play'] == \"No\")/len(df)   # P(No)\n",
        "\n",
        "play_no1, play_yes1 = 1, 1 # stores the chance of each output case (vector 1)\n",
        "play_no2, play_yes2 = 1, 1 # stores the chance of each output case (vector 2)\n",
        "\n",
        "for i in range(len(col[-1])): # repeatedly multipy respective conditional priors by picking out \n",
        "                              # probabilities from prob_tables (3D list)\n",
        "  # Vector 1\n",
        "  play_no1 *= prob_tables[i][np.where(vals[i] == test1[i])[0][0]][0]\n",
        "  play_yes1 *= prob_tables[i][np.where(vals[i] == test1[i])[0][0]][1]\n",
        "\n",
        "  # Vector 2\n",
        "  play_no2 *= prob_tables[i][np.where(vals[i] == test2[i])[0][0]][0]\n",
        "  play_yes2 *= prob_tables[i][np.where(vals[i] == test2[i])[0][0]][1]\n",
        "\n",
        "# finally multiply the probability of output values\n",
        "play_yes1 *= prob_yes\n",
        "play_no1 *= prob_no\n",
        "play_yes2 *= prob_yes\n",
        "play_no2 *= prob_no"
      ],
      "execution_count": null,
      "outputs": []
    },
    {
      "cell_type": "code",
      "metadata": {
        "colab": {
          "base_uri": "https://localhost:8080/"
        },
        "id": "3dEqRegWrqZN",
        "outputId": "0818e8d2-35ac-4315-804a-68fa5ae567cb"
      },
      "source": [
        "print(\"Chance of play = Yes, given test1: \", play_yes1)\n",
        "print(\"Chance of play = No, given test1: \", play_no1)\n",
        "\n",
        "if play_yes1 > play_no1: print(\"Output label for \", test1, \"is Yes\",) \n",
        "else: print(\"Output label for \", test1, \"is No\\n\\n\")\n",
        "\n",
        "print(\"Chance of play = Yes, given test2: \", play_yes2)\n",
        "print(\"Chance of play = No, given test2: \", play_no2)\n",
        "\n",
        "if play_yes2 > play_no2: print(\"Output label for \", test2, \"is Yes\",) \n",
        "else: print(\"Output label for \", test2, \"is No\")"
      ],
      "execution_count": null,
      "outputs": [
        {
          "output_type": "stream",
          "name": "stdout",
          "text": [
            "Chance of play = Yes, given test1:  0.010582010582010581\n",
            "Chance of play = No, given test1:  0.013714285714285715\n",
            "Output label for  ['Sunny', 'Cool', 'High', 'Weak'] is No\n",
            "\n",
            "\n",
            "Chance of play = Yes, given test2:  0.010582010582010581\n",
            "Chance of play = No, given test2:  0.01828571428571429\n",
            "Output label for  ['Rain', 'Hot', 'High', 'Weak'] is No\n"
          ]
        }
      ]
    },
    {
      "cell_type": "code",
      "metadata": {
        "colab": {
          "base_uri": "https://localhost:8080/"
        },
        "id": "2HWMNGVGSvyY",
        "outputId": "92e37476-fca0-4687-fcbf-74be5bb0de49"
      },
      "source": [
        "### IN-BUILT NAIVE BAYES CLASSIFIER ###\n",
        "\n",
        "import pandas as pd\n",
        "import numpy as np\n",
        "from sklearn.preprocessing import LabelEncoder\n",
        "from sklearn.naive_bayes import GaussianNB\n",
        "\n",
        "# load csv data into dataframe\n",
        "df = pd.read_csv('playTennis.csv', sep = ',')\n",
        "encoder = LabelEncoder()\n",
        "\n",
        "# encode the labels in the dataframe\n",
        "for i in df.columns[1:]:\n",
        " df[i] = encoder.fit_transform(df[i])\n",
        "\n",
        "# remove unwated columns and create the input and the output sets\n",
        "del df['day']\n",
        "Y = df['play'].to_numpy()\n",
        "del df['play']\n",
        "X = df.to_numpy()\n",
        "\n",
        "# train the model and do prediction\n",
        "model = GaussianNB()\n",
        "model.fit(X,Y)\n",
        "result = model.predict([[2,0,0,1],[1,1,0,1]])\n",
        "\n",
        "label = {1:\"Yes\", 0:\"No\"} # dictionary to map integer to output label\n",
        "\n",
        "for i in range(len(result)):\n",
        "  print(\"Output label for test case \",i+1,\" is\", label[result[i]] )"
      ],
      "execution_count": null,
      "outputs": [
        {
          "output_type": "stream",
          "name": "stdout",
          "text": [
            "Output label for test case  1  is No\n",
            "Output label for test case  2  is Yes\n"
          ]
        }
      ]
    }
  ]
}