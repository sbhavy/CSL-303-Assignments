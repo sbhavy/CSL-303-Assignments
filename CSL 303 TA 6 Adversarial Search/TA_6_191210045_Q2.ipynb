{
 "cells": [
  {
   "cell_type": "code",
   "execution_count": 1,
   "id": "662b105d",
   "metadata": {},
   "outputs": [],
   "source": [
    "# check if node is valid: within bounds\n",
    "# and not already visited\n",
    "\n",
    "def valid(node):\n",
    "    if(node[0]<=5 and node[1]<=5 and node[0]>=1 and node[1]>=1 \n",
    "    and node not in obstacles):\n",
    "        return True\n",
    "    return False"
   ]
  },
  {
   "cell_type": "code",
   "execution_count": 2,
   "id": "d3063bbe",
   "metadata": {},
   "outputs": [
    {
     "name": "stdout",
     "output_type": "stream",
     "text": [
      "[[2. 0. 0. 0. 1.]\n",
      " [0. 1. 0. 0. 3.]\n",
      " [0. 3. 0. 1. 1.]\n",
      " [0. 1. 0. 0. 1.]\n",
      " [3. 0. 0. 2. 3.]]\n"
     ]
    }
   ],
   "source": [
    "import random\n",
    "import numpy as np\n",
    "import math\n",
    "\n",
    "# below code snippet is for\n",
    "# showing the initial state of \n",
    "# the maze diagrammatically\n",
    "maze=np.zeros(25)\n",
    "maze[4]=maze[6]=maze[13]=maze[14]=maze[16]=maze[19]=1\n",
    "maze[0]=2\n",
    "maze[23]=2\n",
    "maze[9]=maze[11]=maze[20]=maze[24]=3\n",
    "\n",
    "maze=maze.reshape((5,5))\n",
    "print(maze)"
   ]
  },
  {
   "cell_type": "code",
   "execution_count": 3,
   "id": "5239a9f1",
   "metadata": {},
   "outputs": [],
   "source": [
    "# evaluation function for leaves of game tree\n",
    "# sum of inverse Manhattan and inverse Euclidean distances\n",
    "# from each of the remaining goals, bonus of +3 if agent is on goal\n",
    "\n",
    "def eval_func(currState,agent,goals):\n",
    "    i,j=currState[0][agent]\n",
    "    k,l=currState[0][1-agent]\n",
    "    score=0\n",
    "    for goal in currState[1]:\n",
    "        a,b=goal\n",
    "        score+=1/(abs(a-i)+abs(b-j))+1/(math.sqrt((a-i)**2+(b-j)**2))\n",
    "    if(currState[0][agent] in goals):\n",
    "        score+=3\n",
    "    return score"
   ]
  },
  {
   "cell_type": "code",
   "execution_count": 4,
   "id": "6b603098",
   "metadata": {},
   "outputs": [],
   "source": [
    "# max_part of minimax algorithm\n",
    "\n",
    "def max_part(currState,agent):\n",
    "    \n",
    "    temp=[x[:] for x in currState]\n",
    "    i,j=temp[0][agent]\n",
    "    \n",
    "    #collect neighbours\n",
    "    nbrs=[(i-1,j),(i,j-1),(i+1,j),(i,j+1)]\n",
    "    tru_nbrs=[]\n",
    "    \n",
    "    #collect valid neighbours\n",
    "    for i in nbrs:\n",
    "        if(valid(i)): tru_nbrs.append(i)         \n",
    "    val=-99999\n",
    "    scores=[]\n",
    "    for j in tru_nbrs:       \n",
    "        new_state=[x[:] for x in currState]\n",
    "        new_state[0][agent]=j\n",
    "                \n",
    "        for i in range(len(new_state[1])):\n",
    "            if(new_state[0][agent]==new_state[1][i]):\n",
    "                new_state[1].pop(i)\n",
    "                break\n",
    "        \n",
    "        #min moves    \n",
    "        scores.append(min_part(new_state,1-agent))\n",
    "        \n",
    "    #return max from min moves\n",
    "    return tru_nbrs[scores.index(max(scores))]"
   ]
  },
  {
   "cell_type": "code",
   "execution_count": 5,
   "id": "45402464",
   "metadata": {},
   "outputs": [],
   "source": [
    "# min part of minimax algo\n",
    "# since depth is 1, the children of \n",
    "# min component will be leaves,\n",
    "# a.k.a the heuristic values of positions\n",
    "\n",
    "def min_part(currState,agent):\n",
    "    \n",
    "    temp=[x[:] for x in currState]\n",
    "    i,j=temp[0][agent]\n",
    "    \n",
    "    #collect neighbours\n",
    "    nbrs=[(i-1,j),(i,j-1),(i+1,j),(i,j+1)]\n",
    "    tru_nbrs=[]\n",
    "    \n",
    "     #collect valid neighbours\n",
    "    for i in nbrs:\n",
    "        if(valid(i)): tru_nbrs.append(i)\n",
    "            \n",
    "    val=99999\n",
    "    scores=[]\n",
    "    for j in tru_nbrs:\n",
    "        \n",
    "        new_state=[x[:] for x in currState]\n",
    "        new_state[0][agent]=j\n",
    "        \n",
    "        for i in range(len(new_state[1])):\n",
    "            if(new_state[0][agent]==new_state[1][i]):\n",
    "                new_state[1].pop(i)\n",
    "                break\n",
    "        #max moves        \n",
    "        scores.append(eval_func(new_state,1-agent,goals))\n",
    "    \n",
    "    #return min from max moves    \n",
    "    return min(scores)"
   ]
  },
  {
   "cell_type": "code",
   "execution_count": 6,
   "id": "f9dd0902",
   "metadata": {},
   "outputs": [
    {
     "name": "stdout",
     "output_type": "stream",
     "text": [
      "Player  A moves to:  (2, 1) \tPlayer  B moves to:  (5, 5) \tCurrent scores: A = -1 , B = 10\n",
      "Player  A moves to:  (3, 1) \tPlayer  B moves to:  (5, 4) \tCurrent scores: A = -2 , B = 9\n",
      "Player  A moves to:  (3, 2) \tPlayer  B moves to:  (5, 3) \tCurrent scores: A = 8 , B = 8\n",
      "Player  A moves to:  (3, 1) \tPlayer  B moves to:  (5, 2) \tCurrent scores: A = 7 , B = 7\n",
      "Player  A moves to:  (3, 2) \tPlayer  B moves to:  (5, 1) \tCurrent scores: A = 6 , B = 17\n",
      "Player  A moves to:  (3, 3) \tPlayer  B moves to:  (5, 2) \tCurrent scores: A = 5 , B = 16\n",
      "Player  A moves to:  (2, 3) \tPlayer  B moves to:  (5, 3) \tCurrent scores: A = 4 , B = 15\n",
      "Player  A moves to:  (2, 4) \tPlayer  B moves to:  (4, 3) \tCurrent scores: A = 3 , B = 14\n",
      "Player  A moves to:  (2, 5) \t\n",
      "Final scores: A = 13 , B = 14\n",
      "B is the winner\n"
     ]
    }
   ],
   "source": [
    "# definition of problem statement\n",
    "# and various components\n",
    "\n",
    "goals=[(3,2),(5,1),(2,5),(5,5)]\n",
    "gameState=[[(1,1),(5,4)],[(3,2),(5,1),(2,5),(5,5)]]\n",
    "global obstacles\n",
    "obstacles=[(1,5),(2,2),(3,4),(3,5),(4,2),(4,5)]\n",
    "\n",
    "global obstacles\n",
    "\n",
    "player_id={ 0:'A', 1:'B'}\n",
    "\n",
    "score=[0,0]\n",
    "\n",
    "while(True):\n",
    "    \n",
    "    for a in range(2):\n",
    "        gameState[0][a]=max_part(gameState,a)\n",
    "        print(\"Player \", player_id[a],\"moves to: \", gameState[0][a],'\\t', end='')\n",
    "        for i in range(len(gameState[1])):\n",
    "            if(gameState[0][a]==gameState[1][i]):\n",
    "                gameState[1].pop(i)\n",
    "                goals.pop(i)\n",
    "                score[a]+=10\n",
    "                break\n",
    "        else: score[a]-=1\n",
    "        if(len(gameState[1])==0): break\n",
    "            \n",
    "    if(len(gameState[1])==0): break\n",
    "    print(\"Current scores: A =\",score[0],\", B =\",score[1])\n",
    "        \n",
    "print(\"\\nFinal scores: A =\",score[0],\", B =\",score[1])\n",
    "\n",
    "if(score[0]<score[1]): print(\"B is the winner\")\n",
    "elif(score[0]>score[1]): print(\"A is the winner\")\n",
    "else:  print(\"Drawn game\")"
   ]
  },
  {
   "cell_type": "code",
   "execution_count": null,
   "id": "ba8bdeff",
   "metadata": {},
   "outputs": [],
   "source": []
  }
 ],
 "metadata": {
  "kernelspec": {
   "display_name": "Python 3 (ipykernel)",
   "language": "python",
   "name": "python3"
  },
  "language_info": {
   "codemirror_mode": {
    "name": "ipython",
    "version": 3
   },
   "file_extension": ".py",
   "mimetype": "text/x-python",
   "name": "python",
   "nbconvert_exporter": "python",
   "pygments_lexer": "ipython3",
   "version": "3.8.10"
  }
 },
 "nbformat": 4,
 "nbformat_minor": 5
}
