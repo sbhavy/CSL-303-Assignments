{
 "cells": [
  {
   "cell_type": "code",
   "execution_count": 6,
   "id": "cef7546b",
   "metadata": {},
   "outputs": [],
   "source": [
    "# check if node is valid: within bounds\n",
    "# and not already visited\n",
    "\n",
    "def valid(node,visited):\n",
    "    if(node[0]<=5 and node[1]<=5 and node[0]>=1 and node[1]>=1 \n",
    "       and node not in visited and node not in obstacles):\n",
    "        return True\n",
    "    return False"
   ]
  },
  {
   "cell_type": "code",
   "execution_count": 7,
   "id": "b2749247",
   "metadata": {},
   "outputs": [],
   "source": [
    "# Breadth-First Search\n",
    "\n",
    "def bfs(start,goal,x):\n",
    "\n",
    "    # initialize variables\n",
    "    queue=[start]\n",
    "    visited=[]\n",
    "    cost=0\n",
    "\n",
    "    while True:\n",
    "        # remove node from fringe and add it to visited list\n",
    "        curr_node=queue.pop(0)\n",
    "        visited.append(curr_node)\n",
    "        \n",
    "        # extract co-ordinates for future use\n",
    "        i,j=curr_node\n",
    "        \n",
    "        # goal found!\n",
    "        if(curr_node==goal): return cost\n",
    "        \n",
    "        # entertain all possibilities (up,down,left,right)\n",
    "        else:\n",
    "            nbrs=[(i-1,j),(i,j-1),(i,j+1),(i+1,j)]\n",
    "            random.seed(x)\n",
    "            random.shuffle(nbrs)\n",
    "            \n",
    "            for i in range(4):\n",
    "                if(valid(nbrs[i],visited)):\n",
    "                    queue.append(nbrs[i])\n",
    "                    visited.append(nbrs[i])\n",
    "        cost+=1"
   ]
  },
  {
   "cell_type": "code",
   "execution_count": 8,
   "id": "1bbc9ec9",
   "metadata": {},
   "outputs": [
    {
     "name": "stdout",
     "output_type": "stream",
     "text": [
      "[[2. 0. 0. 0. 1.]\n",
      " [0. 1. 0. 0. 3.]\n",
      " [0. 3. 0. 1. 1.]\n",
      " [0. 1. 0. 0. 1.]\n",
      " [3. 0. 0. 2. 3.]]\n"
     ]
    }
   ],
   "source": [
    "import random\n",
    "import numpy as np\n",
    "\n",
    "# below code snippet is for showing the \n",
    "# initial state of the maze diagrammatically\n",
    "maze=np.zeros(25)\n",
    "maze[4]=maze[6]=maze[13]=maze[14]=maze[16]=maze[19]=1\n",
    "maze[0]=2\n",
    "maze[23]=2\n",
    "maze[9]=maze[11]=maze[20]=maze[24]=3\n",
    "\n",
    "maze=maze.reshape((5,5))\n",
    "print(maze)"
   ]
  },
  {
   "cell_type": "code",
   "execution_count": 9,
   "id": "3313119e",
   "metadata": {},
   "outputs": [],
   "source": [
    "#=======================================#\n",
    "#               For Agent A\n",
    "#=======================================#\n",
    "\n",
    "\n",
    "\n",
    "costA=[]\n",
    "\n",
    "for i in range(10):\n",
    "\n",
    "    # tuples defining the respective entities\n",
    "    # start state, goal state, and obstacles\n",
    "    \n",
    "    start=(1,1)\n",
    "    goals=[(3,2),(5,1),(2,5),(5,5)]\n",
    "    obstacles=[(1,5),(2,2),(3,4),(3,5),(4,2),(4,5)]\n",
    "\n",
    "    cost=0 # total cost to find all goals in the maze\n",
    "\n",
    "    while(len(goals)>0):\n",
    "        # find the closest goal using Manhattan Distance\n",
    "        min_ind=np.argmin(np.sum(np.abs(np.array(goals)-start),axis=1))\n",
    "\n",
    "        # use bfs on the current state and nearest goal found\n",
    "        cost+=bfs(start,goals[min_ind],i)\n",
    "\n",
    "        # repeat the problem with goal state as new start state\n",
    "        start=goals[min_ind]\n",
    "        goals.pop(min_ind)\n",
    "\n",
    "    costA.append(cost)"
   ]
  },
  {
   "cell_type": "code",
   "execution_count": 10,
   "id": "87745c49",
   "metadata": {},
   "outputs": [],
   "source": [
    "#=======================================#\n",
    "#              For Agent B\n",
    "#=======================================#\n",
    "\n",
    "\n",
    "costB=[]\n",
    "\n",
    "for i in range(10):\n",
    "\n",
    "    # tuples defining the respective entities\n",
    "    # start state, goal state, and obstacles\n",
    "    start=(5,4)\n",
    "    goals=[(3,2),(5,1),(2,5),(5,5)]\n",
    "    obstacles=[(1,5),(2,2),(3,4),(3,5),(4,2),(4,5)]\n",
    "\n",
    "    cost=0 # total cost to find all goals in the maze\n",
    "\n",
    "    while(len(goals)>0):\n",
    "        # find the closest goal using Manhattan Distance\n",
    "        min_ind=np.argmin(np.sum(np.abs(np.array(goals)-start),axis=1))\n",
    "\n",
    "        # use bfs on the current state and nearest goal found\n",
    "        cost+=bfs(start,goals[min_ind],i)\n",
    "\n",
    "        # repeat the problem with goal state as new start state\n",
    "        start=goals[min_ind]\n",
    "        goals.pop(min_ind)\n",
    "\n",
    "    costB.append(cost)"
   ]
  },
  {
   "cell_type": "code",
   "execution_count": 11,
   "id": "10e41e4a",
   "metadata": {},
   "outputs": [
    {
     "name": "stdout",
     "output_type": "stream",
     "text": [
      "[42, 45, 38, 45, 42, 42, 41, 42, 47, 43]\n",
      "[34, 37, 30, 37, 35, 34, 34, 34, 38, 34]\n",
      "B is the winner with  10  wins\n"
     ]
    }
   ],
   "source": [
    "# display round-wise scores of each player\n",
    "print(costA)\n",
    "print(costB)\n",
    "    \n",
    "# convert to NumPy array for easy comparison\n",
    "costA=np.array(costA)\n",
    "costB=np.array(costB)\n",
    "\n",
    "\n",
    "a_win=np.count_nonzero(costA<costB) # number of games A has won\n",
    "b_win=np.count_nonzero(costA>costB) # number of games B has won\n",
    "\n",
    "# check who is the winner\n",
    "if(a_win>b_win):\n",
    "    print(\"A is the winner with \" ,a_win,\" wins\")\n",
    "elif(a_win<b_win):\n",
    "    print(\"B is the winner with \" ,b_win,\" wins\")\n",
    "else:\n",
    "    print(\"Draw, both have\" ,a_win,\"wins\")"
   ]
  },
  {
   "cell_type": "code",
   "execution_count": null,
   "id": "9e156f02",
   "metadata": {},
   "outputs": [],
   "source": []
  }
 ],
 "metadata": {
  "kernelspec": {
   "display_name": "Python 3 (ipykernel)",
   "language": "python",
   "name": "python3"
  },
  "language_info": {
   "codemirror_mode": {
    "name": "ipython",
    "version": 3
   },
   "file_extension": ".py",
   "mimetype": "text/x-python",
   "name": "python",
   "nbconvert_exporter": "python",
   "pygments_lexer": "ipython3",
   "version": "3.8.10"
  }
 },
 "nbformat": 4,
 "nbformat_minor": 5
}
